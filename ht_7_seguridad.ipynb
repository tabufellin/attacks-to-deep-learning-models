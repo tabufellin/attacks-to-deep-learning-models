{
 "cells": [
  {
   "cell_type": "code",
   "execution_count": 1,
   "id": "cb2681f4-f4fa-441d-aedf-3247629080cf",
   "metadata": {},
   "outputs": [],
   "source": [
    "import os\n",
    "import numpy as np\n",
    "import matplotlib.pyplot as plt\n",
    "from PIL import Image\n",
    "from sklearn.model_selection import train_test_split\n",
    "from tensorflow.keras.models import Sequential\n",
    "from tensorflow.keras.layers import Conv2D, MaxPooling2D, Flatten, Dense\n",
    "from tensorflow.keras.optimizers.legacy import Adam\n",
    "from PIL import Image\n",
    "from tensorflow.keras.regularizers import l2\n",
    "from tensorflow.keras.layers import Dropout"
   ]
  },
  {
   "cell_type": "code",
   "execution_count": 2,
   "id": "09db0d08-7709-4695-acc1-961730d9502d",
   "metadata": {},
   "outputs": [],
   "source": [
    "# de cuales tenemos suficiente data?\n",
    "#tenemos algunos...\n",
    "#allaple-A -!\n",
    "#yuner - a -!\n",
    "#allaple.L\n",
    "#instantaccess\n",
    "#vB.at"
   ]
  },
  {
   "cell_type": "code",
   "execution_count": 3,
   "id": "a45f7326-1e01-4eb5-a065-1f5d9a4a523d",
   "metadata": {},
   "outputs": [
    {
     "data": {
      "text/plain": [
       "['dontovo_a',\n",
       " 'instant_access',\n",
       " 'vb_at',\n",
       " 'dialplatform_b',\n",
       " 'adialer_c',\n",
       " 'agent_fyi',\n",
       " 'allaple_a',\n",
       " 'fakerean',\n",
       " 'yuner_a',\n",
       " 'lolyda_aa1',\n",
       " '.ipynb_checkpoints',\n",
       " 'allaple_l',\n",
       " 'auleron_gen_j']"
      ]
     },
     "execution_count": 3,
     "metadata": {},
     "output_type": "execute_result"
    }
   ],
   "source": [
    "# Directorio base donde se encuentran las imágenes de malware\n",
    "base_dir = './images'\n",
    "\n",
    "# Obtener la lista de familias de malware\n",
    "familias = os.listdir(base_dir)\n",
    "\n",
    "# Diccionario para almacenar las imágenes y etiquetas\n",
    "data = {\n",
    "    'imagenes': [],\n",
    "    'etiquetas': []\n",
    "}\n",
    "\n",
    "familias\n"
   ]
  },
  {
   "cell_type": "code",
   "execution_count": 4,
   "id": "dba77b49-531b-4ee7-ae90-e45c1db3415f",
   "metadata": {},
   "outputs": [],
   "source": [
    "# Recorrer cada familia de malware\n",
    "for familia in familias:\n",
    "    familia_dir = os.path.join(base_dir, familia)\n",
    "    imagenes_familia = os.listdir(familia_dir)"
   ]
  },
  {
   "cell_type": "code",
   "execution_count": 5,
   "id": "d8691747-880f-40c6-af29-c87964970e07",
   "metadata": {},
   "outputs": [],
   "source": [
    "# Tamaño común para redimensionar las imágenes\n",
    "target_size = (224, 224)  # Ajusta el tamaño según tus necesidades\n",
    "\n",
    "flag_counter = 0\n",
    "# Recorrer cada familia de malware\n",
    "for familia in familias:\n",
    "    familia_dir = os.path.join(base_dir, familia)\n",
    "    imagenes_familia = os.listdir(familia_dir)\n",
    "\n",
    "    \n",
    "    # Verificar si la familia tiene suficientes observaciones\n",
    "    if len(imagenes_familia) >= 10:  # Ajusta el umbral según tus necesidades\n",
    "        # Recorrer cada imagen de la familia\n",
    "\n",
    "        counter_max_check_files_of_one_family = 0\n",
    "        \n",
    "        for imagen_nombre in imagenes_familia:\n",
    "\n",
    "            ++counter_max_check_files_of_one_family\n",
    "            if (counter_max_check_files_of_one_family < 100):        \n",
    "                imagen_path = os.path.join(familia_dir, imagen_nombre)\n",
    "                \n",
    "                # Verificar si la ruta es un archivo antes de intentar abrirlo\n",
    "                if os.path.isfile(imagen_path):\n",
    "                    # Cargar la imagen y redimensionarla al tamaño común\n",
    "                    imagen = Image.open(imagen_path)\n",
    "                    imagen = imagen.resize(target_size)\n",
    "                    imagen_array = np.array(imagen)\n",
    "                    if(imagen_array.shape == (224,224)):\n",
    "            \n",
    "                    \n",
    "                        # Agregar la imagen y la etiqueta al diccionario\n",
    "                        data['imagenes'].append(imagen_array)\n",
    "                        data['etiquetas'].append(flag_counter)\n",
    "                    else:\n",
    "                        print(\"esta raro\")\n",
    "        flag_counter = flag_counter + 1\n",
    "# ..."
   ]
  },
  {
   "cell_type": "code",
   "execution_count": 6,
   "id": "654167d3-3dce-4fe1-860a-387976f40bb6",
   "metadata": {},
   "outputs": [
    {
     "name": "stdout",
     "output_type": "stream",
     "text": [
      "5735 0\n"
     ]
    }
   ],
   "source": [
    "counter_si = 0\n",
    "counter_no = 0\n",
    "for imagenes in data['imagenes']:\n",
    "   \n",
    "    if (imagenes.shape == (224,224)):\n",
    "        counter_si += 1\n",
    "    else:\n",
    "        counter_no += 1\n",
    "\n",
    "print(counter_si, counter_no)\n"
   ]
  },
  {
   "cell_type": "code",
   "execution_count": 7,
   "id": "0d0ce619-9e21-4e60-aec5-9bda375452a0",
   "metadata": {},
   "outputs": [],
   "source": [
    "# Convertir las listas en arrays numpy\n",
    "X = np.array(data['imagenes'])\n",
    "y = np.array(data['etiquetas'])"
   ]
  },
  {
   "cell_type": "code",
   "execution_count": 71,
   "id": "79ebbf13-377d-4c04-9a04-4dcfc8f06b17",
   "metadata": {},
   "outputs": [],
   "source": [
    "# Dividir los datos en entrenamiento y prueba\n",
    "X_train, X_test, y_train, y_test = train_test_split(X, y, test_size=0.3, random_state=42)\n",
    "\n",
    "# Normalizar los valores de píxeles entre 0 y 1\n",
    "X_train = X_train.astype('float32') / 255.0\n",
    "X_test = X_test.astype('float32') / 255.0\n"
   ]
  },
  {
   "cell_type": "code",
   "execution_count": 72,
   "id": "afcea5e3-d8ea-4eb5-a4f9-79278ebf5784",
   "metadata": {},
   "outputs": [
    {
     "data": {
      "text/plain": [
       "\"\\nmodel = Sequential([\\n    Conv2D(32, (3, 3), activation='relu', input_shape=(224, 224, 3)),\\n    MaxPooling2D((2, 2)),\\n    Conv2D(64, (3, 3), activation='relu'),\\n    MaxPooling2D((2, 2)),\\n    Conv2D(64, (3, 3), activation='relu'),\\n    Flatten(),\\n    Dense(64, activation='relu'),\\n    Dense(len(np.unique(y_train)), activation='softmax')\\n])\\n\""
      ]
     },
     "execution_count": 72,
     "metadata": {},
     "output_type": "execute_result"
    }
   ],
   "source": [
    "'''\n",
    "model = Sequential([\n",
    "    Conv2D(32, (3, 3), activation='relu', input_shape=(224, 224, 3)),\n",
    "    MaxPooling2D((2, 2)),\n",
    "    Conv2D(64, (3, 3), activation='relu'),\n",
    "    MaxPooling2D((2, 2)),\n",
    "    Conv2D(64, (3, 3), activation='relu'),\n",
    "    Flatten(),\n",
    "    Dense(64, activation='relu'),\n",
    "    Dense(len(np.unique(y_train)), activation='softmax')\n",
    "])\n",
    "'''"
   ]
  },
  {
   "cell_type": "code",
   "execution_count": 73,
   "id": "c77335ba-553b-4eca-bc91-41fdfa0e763b",
   "metadata": {},
   "outputs": [
    {
     "name": "stdout",
     "output_type": "stream",
     "text": [
      "Data type of X_train: float32\n",
      "Data type of X_test: float32\n"
     ]
    },
    {
     "data": {
      "text/plain": [
       "\"\\nmodel = Sequential([\\n    Conv2D(32, (3, 3), activation='relu', kernel_regularizer=l2(0.01), input_shape=(224, 224, 1)),\\n    MaxPooling2D((2, 2)),\\n    Conv2D(64, (3, 3), activation='relu', kernel_regularizer=l2(0.01)),\\n    MaxPooling2D((2, 2)),\\n    Conv2D(64, (3, 3), activation='relu', kernel_regularizer=l2(0.01)),\\n    Dropout(0.5),\\n    Flatten(),\\n    Dense(64, activation='relu', kernel_regularizer=l2(0.01)),\\n    Dropout(0.5),\\n    Dense(len(np.unique(y_train)), activation='softmax')\\n])\\n\""
      ]
     },
     "execution_count": 73,
     "metadata": {},
     "output_type": "execute_result"
    }
   ],
   "source": [
    "# Agregar la dimensión de canal a las imágenes\n",
    "X_train = np.expand_dims(X_train, axis=-1)\n",
    "X_test = np.expand_dims(X_test, axis=-1)\n",
    "\n",
    "print(\"Data type of X_train:\", X_train.dtype)\n",
    "print(\"Data type of X_test:\", X_test.dtype)\n",
    "# Construir el modelo de red neuronal\n",
    "'''\n",
    "model = Sequential([\n",
    "    Conv2D(32, (3, 3), activation='relu', kernel_regularizer=l2(0.01), input_shape=(224, 224, 1)),  # Ajusta la forma de entrada según tus imágenes\n",
    "    MaxPooling2D((2, 2)),\n",
    "    Conv2D(64, (3, 3), activation='relu', kernel_regularizer=l2(0.01)),\n",
    "    MaxPooling2D((2, 2)),\n",
    "    Conv2D(64, (3, 3), activation='relu', kernel_regularizer=l2(0.01)),\n",
    "    Dropout(0.5),\n",
    "    Flatten(),\n",
    "    Dense(64, activation='relu', kernel_regularizer=l2(0.01)),\n",
    "    Dropout(0.5),\n",
    "    Dense(len(np.unique(y_train)), activation='softmax')\n",
    "])\n",
    "'''\n",
    "my_model = Sequential([\n",
    "    Conv2D(32, (3, 3), activation='relu', kernel_regularizer=l2(0.01), input_shape=(224, 224, 1)),\n",
    "    MaxPooling2D((2, 2)),\n",
    "    Dropout(0.3),  # Increased dropout rate\n",
    "    \n",
    "    Conv2D(64, (3, 3), activation='relu', kernel_regularizer=l2(0.01)),\n",
    "    MaxPooling2D((2, 2)),\n",
    "    Dropout(0.3),  # Increased dropout rate\n",
    "    \n",
    "    Conv2D(128, (3, 3), activation='relu', kernel_regularizer=l2(0.01)),  # Added convolutional layer\n",
    "    MaxPooling2D((2, 2)),\n",
    "    Dropout(0.3),  # Increased dropout rate\n",
    "    \n",
    "    Conv2D(128, (3, 3), activation='relu', kernel_regularizer=l2(0.01)),\n",
    "    MaxPooling2D((2, 2)),\n",
    "    Dropout(0.3),  # Increased dropout rate\n",
    "    \n",
    "    Flatten(),\n",
    "    Dense(256, activation='relu', kernel_regularizer=l2(0.01)),  # Increased units and added regularization\n",
    "    Dropout(0.4),  # Increased dropout rate\n",
    "    Dense(128, activation='relu', kernel_regularizer=l2(0.01)),  # Increased units and added regularization\n",
    "    Dropout(0.4),  # Increased dropout rate\n",
    "    Dense(len(np.unique(y_train)), activation='softmax')\n",
    "])\n",
    "\n",
    "'''\n",
    "model = Sequential([\n",
    "    Conv2D(32, (3, 3), activation='relu', kernel_regularizer=l2(0.01), input_shape=(224, 224, 1)),\n",
    "    MaxPooling2D((2, 2)),\n",
    "    Conv2D(64, (3, 3), activation='relu', kernel_regularizer=l2(0.01)),\n",
    "    MaxPooling2D((2, 2)),\n",
    "    Conv2D(64, (3, 3), activation='relu', kernel_regularizer=l2(0.01)),\n",
    "    Dropout(0.5),\n",
    "    Flatten(),\n",
    "    Dense(64, activation='relu', kernel_regularizer=l2(0.01)),\n",
    "    Dropout(0.5),\n",
    "    Dense(len(np.unique(y_train)), activation='softmax')\n",
    "])\n",
    "'''"
   ]
  },
  {
   "cell_type": "code",
   "execution_count": 74,
   "id": "e19df9f3-fef3-4b84-876d-fa1bea2d64d3",
   "metadata": {},
   "outputs": [],
   "source": [
    "# Compilar el modelo\n",
    "model.compile(optimizer=Adam(learning_rate=0.001),\n",
    "              loss='sparse_categorical_crossentropy',\n",
    "              metrics=['accuracy'])"
   ]
  },
  {
   "cell_type": "code",
   "execution_count": 12,
   "id": "bc08974e-1d3d-42ab-96ca-66c07a1ad350",
   "metadata": {},
   "outputs": [
    {
     "name": "stdout",
     "output_type": "stream",
     "text": [
      "Epoch 1/5\n",
      "126/126 [==============================] - 105s 834ms/step - loss: 4.2096 - accuracy: 0.4071 - val_loss: 1.8178 - val_accuracy: 0.6304\n",
      "Epoch 2/5\n",
      "126/126 [==============================] - 105s 836ms/step - loss: 1.4227 - accuracy: 0.7103 - val_loss: 0.9891 - val_accuracy: 0.9309\n",
      "Epoch 3/5\n",
      "126/126 [==============================] - 120s 954ms/step - loss: 0.8688 - accuracy: 0.9048 - val_loss: 0.6189 - val_accuracy: 0.9890\n",
      "Epoch 4/5\n",
      "126/126 [==============================] - 126s 1s/step - loss: 0.6511 - accuracy: 0.9492 - val_loss: 0.5531 - val_accuracy: 0.9849\n",
      "Epoch 5/5\n",
      "126/126 [==============================] - 151s 1s/step - loss: 0.5604 - accuracy: 0.9626 - val_loss: 0.4180 - val_accuracy: 0.9913\n",
      "54/54 [==============================] - 14s 264ms/step - loss: 0.4180 - accuracy: 0.9913\n",
      "Test Loss: 0.41796383261680603, Test Accuracy: 0.9912841320037842\n"
     ]
    }
   ],
   "source": [
    "# Entrenar el modelo\n",
    "model.fit(X_train, y_train, epochs=5, batch_size=32, validation_data=(X_test, y_test))\n",
    "\n",
    "# Evaluar el modelo en los datos de prueba\n",
    "test_loss, test_accuracy = model.evaluate(X_test, y_test)\n",
    "print(f'Test Loss: {test_loss}, Test Accuracy: {test_accuracy}')"
   ]
  },
  {
   "cell_type": "code",
   "execution_count": 75,
   "id": "1dbe4f23-8dd4-4c47-8e4e-c9e2341b7b31",
   "metadata": {},
   "outputs": [],
   "source": [
    "my_y_test = y_test"
   ]
  },
  {
   "cell_type": "code",
   "execution_count": null,
   "id": "3ad8a11a-133e-4dec-a205-c7e252431d21",
   "metadata": {},
   "outputs": [],
   "source": [
    "##parte 2 -------------------------"
   ]
  },
  {
   "cell_type": "code",
   "execution_count": 13,
   "id": "62af5d78-aa24-40bb-8484-1b8e5a2a4fe2",
   "metadata": {},
   "outputs": [
    {
     "name": "stdout",
     "output_type": "stream",
     "text": [
      "Collecting adversarial-robustness-toolbox\n",
      "  Downloading adversarial_robustness_toolbox-1.17.1-py3-none-any.whl.metadata (11 kB)\n",
      "Requirement already satisfied: numpy>=1.18.0 in /Library/Frameworks/Python.framework/Versions/3.11/lib/python3.11/site-packages (from adversarial-robustness-toolbox) (1.25.2)\n",
      "Requirement already satisfied: scipy>=1.4.1 in /Library/Frameworks/Python.framework/Versions/3.11/lib/python3.11/site-packages (from adversarial-robustness-toolbox) (1.11.4)\n",
      "Requirement already satisfied: scikit-learn>=0.22.2 in /Library/Frameworks/Python.framework/Versions/3.11/lib/python3.11/site-packages (from adversarial-robustness-toolbox) (1.4.0)\n",
      "Requirement already satisfied: six in /Library/Frameworks/Python.framework/Versions/3.11/lib/python3.11/site-packages (from adversarial-robustness-toolbox) (1.16.0)\n",
      "Requirement already satisfied: setuptools in /Library/Frameworks/Python.framework/Versions/3.11/lib/python3.11/site-packages (from adversarial-robustness-toolbox) (65.5.0)\n",
      "Requirement already satisfied: tqdm in /Library/Frameworks/Python.framework/Versions/3.11/lib/python3.11/site-packages (from adversarial-robustness-toolbox) (4.66.1)\n",
      "Requirement already satisfied: joblib>=1.2.0 in /Library/Frameworks/Python.framework/Versions/3.11/lib/python3.11/site-packages (from scikit-learn>=0.22.2->adversarial-robustness-toolbox) (1.3.2)\n",
      "Requirement already satisfied: threadpoolctl>=2.0.0 in /Library/Frameworks/Python.framework/Versions/3.11/lib/python3.11/site-packages (from scikit-learn>=0.22.2->adversarial-robustness-toolbox) (3.2.0)\n",
      "Downloading adversarial_robustness_toolbox-1.17.1-py3-none-any.whl (1.7 MB)\n",
      "\u001b[2K   \u001b[90m━━━━━━━━━━━━━━━━━━━━━━━━━━━━━━━━━━━━━━━━\u001b[0m \u001b[32m1.7/1.7 MB\u001b[0m \u001b[31m1.7 MB/s\u001b[0m eta \u001b[36m0:00:00\u001b[0m00:01\u001b[0m00:01\u001b[0m0m\n",
      "\u001b[?25hInstalling collected packages: adversarial-robustness-toolbox\n",
      "Successfully installed adversarial-robustness-toolbox-1.17.1\n"
     ]
    }
   ],
   "source": [
    "!pip install adversarial-robustness-toolbox"
   ]
  },
  {
   "cell_type": "code",
   "execution_count": 87,
   "id": "6e1e0c37-9a15-4e86-996a-e831a0370678",
   "metadata": {},
   "outputs": [],
   "source": [
    "import tensorflow as tf\n",
    "tf.compat.v1.disable_eager_execution()\n",
    "\n",
    "from art.attacks.evasion import FastGradientMethod\n",
    "from art.estimators.classification import KerasClassifier\n",
    "from art.utils import load_dataset\n",
    "import numpy as np\n",
    "from keras.applications.resnet50 import ResNet50\n",
    "from keras.preprocessing.image import ImageDataGenerator\n",
    "from art.estimators.classification import KerasClassifier\n",
    "from art.attacks.evasion import FastGradientMethod\n",
    "from keras.preprocessing.image import ImageDataGenerator\n",
    "from art.attacks.evasion import FastGradientMethod\n",
    "from art.attacks.poisoning import PoisoningAttackBackdoor\n",
    "from art.estimators.classification import KerasClassifier\n",
    "import numpy as np"
   ]
  },
  {
   "cell_type": "code",
   "execution_count": 34,
   "id": "dc34f30a-3d7d-400e-8bbf-ed81cc29fed4",
   "metadata": {},
   "outputs": [],
   "source": [
    "# Cargar el conjunto de datos MNIST\n",
    "(x_train, y_train), (x_test, y_test), min_pixel_value, max_pixel_value = load_dataset('mnist')\n",
    "\n",
    "# Reshape de las imágenes de entrada\n",
    "x_train = np.array([img.reshape((28, 28, 1)) for img in x_train])\n",
    "x_test = np.array([img.reshape((28, 28, 1)) for img in x_test])\n"
   ]
  },
  {
   "cell_type": "code",
   "execution_count": 35,
   "id": "c0a491ee-f87f-4b31-b306-9629b39308a1",
   "metadata": {},
   "outputs": [],
   "source": [
    "# Definir un modelo simple de CNN\n",
    "model = Sequential([\n",
    "    Conv2D(32, (3, 3), activation='relu', input_shape=(28, 28, 1)),\n",
    "    MaxPooling2D((2, 2)),\n",
    "    Conv2D(64, (3, 3), activation='relu'),\n",
    "    MaxPooling2D((2, 2)),\n",
    "    Flatten(),\n",
    "    Dense(128, activation='relu'),\n",
    "    Dense(10, activation='softmax')\n",
    "])\n"
   ]
  },
  {
   "cell_type": "code",
   "execution_count": 36,
   "id": "234d0a0a-1718-41fb-9b80-01a7ecbf86c4",
   "metadata": {},
   "outputs": [],
   "source": [
    "# Compilar el modelo\n",
    "model.compile(optimizer='adam', loss='sparse_categorical_crossentropy', metrics=['accuracy'])\n"
   ]
  },
  {
   "cell_type": "code",
   "execution_count": 52,
   "id": "04fbfb86-a110-454f-af69-6accd50a7cab",
   "metadata": {},
   "outputs": [
    {
     "ename": "AxisError",
     "evalue": "axis 1 is out of bounds for array of dimension 1",
     "output_type": "error",
     "traceback": [
      "\u001b[0;31m---------------------------------------------------------------------------\u001b[0m",
      "\u001b[0;31mAxisError\u001b[0m                                 Traceback (most recent call last)",
      "Cell \u001b[0;32mIn[52], line 2\u001b[0m\n\u001b[1;32m      1\u001b[0m \u001b[38;5;66;03m# Convertir etiquetas one-hot a escalares\u001b[39;00m\n\u001b[0;32m----> 2\u001b[0m y_train \u001b[38;5;241m=\u001b[39m \u001b[43mnp\u001b[49m\u001b[38;5;241;43m.\u001b[39;49m\u001b[43margmax\u001b[49m\u001b[43m(\u001b[49m\u001b[43my_train\u001b[49m\u001b[43m,\u001b[49m\u001b[43m \u001b[49m\u001b[43maxis\u001b[49m\u001b[38;5;241;43m=\u001b[39;49m\u001b[38;5;241;43m1\u001b[39;49m\u001b[43m)\u001b[49m\n\u001b[1;32m      3\u001b[0m y_test \u001b[38;5;241m=\u001b[39m np\u001b[38;5;241m.\u001b[39margmax(y_test, axis\u001b[38;5;241m=\u001b[39m\u001b[38;5;241m1\u001b[39m)\n\u001b[1;32m      5\u001b[0m \u001b[38;5;66;03m# Entrenar el modelo\u001b[39;00m\n",
      "File \u001b[0;32m/Library/Frameworks/Python.framework/Versions/3.11/lib/python3.11/site-packages/numpy/core/fromnumeric.py:1229\u001b[0m, in \u001b[0;36margmax\u001b[0;34m(a, axis, out, keepdims)\u001b[0m\n\u001b[1;32m   1142\u001b[0m \u001b[38;5;250m\u001b[39m\u001b[38;5;124;03m\"\"\"\u001b[39;00m\n\u001b[1;32m   1143\u001b[0m \u001b[38;5;124;03mReturns the indices of the maximum values along an axis.\u001b[39;00m\n\u001b[1;32m   1144\u001b[0m \n\u001b[0;32m   (...)\u001b[0m\n\u001b[1;32m   1226\u001b[0m \u001b[38;5;124;03m(2, 1, 4)\u001b[39;00m\n\u001b[1;32m   1227\u001b[0m \u001b[38;5;124;03m\"\"\"\u001b[39;00m\n\u001b[1;32m   1228\u001b[0m kwds \u001b[38;5;241m=\u001b[39m {\u001b[38;5;124m'\u001b[39m\u001b[38;5;124mkeepdims\u001b[39m\u001b[38;5;124m'\u001b[39m: keepdims} \u001b[38;5;28;01mif\u001b[39;00m keepdims \u001b[38;5;129;01mis\u001b[39;00m \u001b[38;5;129;01mnot\u001b[39;00m np\u001b[38;5;241m.\u001b[39m_NoValue \u001b[38;5;28;01melse\u001b[39;00m {}\n\u001b[0;32m-> 1229\u001b[0m \u001b[38;5;28;01mreturn\u001b[39;00m \u001b[43m_wrapfunc\u001b[49m\u001b[43m(\u001b[49m\u001b[43ma\u001b[49m\u001b[43m,\u001b[49m\u001b[43m \u001b[49m\u001b[38;5;124;43m'\u001b[39;49m\u001b[38;5;124;43margmax\u001b[39;49m\u001b[38;5;124;43m'\u001b[39;49m\u001b[43m,\u001b[49m\u001b[43m \u001b[49m\u001b[43maxis\u001b[49m\u001b[38;5;241;43m=\u001b[39;49m\u001b[43maxis\u001b[49m\u001b[43m,\u001b[49m\u001b[43m \u001b[49m\u001b[43mout\u001b[49m\u001b[38;5;241;43m=\u001b[39;49m\u001b[43mout\u001b[49m\u001b[43m,\u001b[49m\u001b[43m \u001b[49m\u001b[38;5;241;43m*\u001b[39;49m\u001b[38;5;241;43m*\u001b[39;49m\u001b[43mkwds\u001b[49m\u001b[43m)\u001b[49m\n",
      "File \u001b[0;32m/Library/Frameworks/Python.framework/Versions/3.11/lib/python3.11/site-packages/numpy/core/fromnumeric.py:59\u001b[0m, in \u001b[0;36m_wrapfunc\u001b[0;34m(obj, method, *args, **kwds)\u001b[0m\n\u001b[1;32m     56\u001b[0m     \u001b[38;5;28;01mreturn\u001b[39;00m _wrapit(obj, method, \u001b[38;5;241m*\u001b[39margs, \u001b[38;5;241m*\u001b[39m\u001b[38;5;241m*\u001b[39mkwds)\n\u001b[1;32m     58\u001b[0m \u001b[38;5;28;01mtry\u001b[39;00m:\n\u001b[0;32m---> 59\u001b[0m     \u001b[38;5;28;01mreturn\u001b[39;00m \u001b[43mbound\u001b[49m\u001b[43m(\u001b[49m\u001b[38;5;241;43m*\u001b[39;49m\u001b[43margs\u001b[49m\u001b[43m,\u001b[49m\u001b[43m \u001b[49m\u001b[38;5;241;43m*\u001b[39;49m\u001b[38;5;241;43m*\u001b[39;49m\u001b[43mkwds\u001b[49m\u001b[43m)\u001b[49m\n\u001b[1;32m     60\u001b[0m \u001b[38;5;28;01mexcept\u001b[39;00m \u001b[38;5;167;01mTypeError\u001b[39;00m:\n\u001b[1;32m     61\u001b[0m     \u001b[38;5;66;03m# A TypeError occurs if the object does have such a method in its\u001b[39;00m\n\u001b[1;32m     62\u001b[0m     \u001b[38;5;66;03m# class, but its signature is not identical to that of NumPy's. This\u001b[39;00m\n\u001b[0;32m   (...)\u001b[0m\n\u001b[1;32m     66\u001b[0m     \u001b[38;5;66;03m# Call _wrapit from within the except clause to ensure a potential\u001b[39;00m\n\u001b[1;32m     67\u001b[0m     \u001b[38;5;66;03m# exception has a traceback chain.\u001b[39;00m\n\u001b[1;32m     68\u001b[0m     \u001b[38;5;28;01mreturn\u001b[39;00m _wrapit(obj, method, \u001b[38;5;241m*\u001b[39margs, \u001b[38;5;241m*\u001b[39m\u001b[38;5;241m*\u001b[39mkwds)\n",
      "\u001b[0;31mAxisError\u001b[0m: axis 1 is out of bounds for array of dimension 1"
     ]
    }
   ],
   "source": [
    "# Convertir etiquetas one-hot a escalares\n",
    "y_train = np.argmax(y_train, axis=1)\n",
    "y_test = np.argmax(y_test, axis=1)\n",
    "\n",
    "# Entrenar el modelo\n",
    "model.fit(x_train, y_train, epochs=5, batch_size=64, validation_data=(X_test, y_test))\n"
   ]
  },
  {
   "cell_type": "code",
   "execution_count": 39,
   "id": "403d7c4c-ec85-4496-bb1f-9e51324fb0ca",
   "metadata": {},
   "outputs": [],
   "source": [
    "# Crear el estimador de ART\n",
    "estimator = KerasClassifier(model, clip_values=(min_pixel_value, max_pixel_value))\n"
   ]
  },
  {
   "cell_type": "code",
   "execution_count": 40,
   "id": "138d5520-6d19-41c1-bd67-bbfcc4ff80fb",
   "metadata": {},
   "outputs": [
    {
     "name": "stderr",
     "output_type": "stream",
     "text": [
      "/Library/Frameworks/Python.framework/Versions/3.11/lib/python3.11/site-packages/keras/src/engine/training_v1.py:2359: UserWarning: `Model.state_updates` will be removed in a future version. This property should not be used in TensorFlow 2.0, as `updates` are applied automatically.\n",
      "  updates=self.state_updates,\n",
      "2024-05-05 18:03:33.596577: W tensorflow/c/c_api.cc:305] Operation '{name:'dense_4/Softmax' id:28356 op device:{requested: '', assigned: ''} def:{{{node dense_4/Softmax}} = Softmax[T=DT_FLOAT, _has_manual_control_dependencies=true](dense_4/BiasAdd)}}' was changed by setting attribute after it was run by a session. This mutation will have no effect, and will trigger an error in the future. Either don't modify nodes after running them or create a new session.\n"
     ]
    }
   ],
   "source": [
    "# Implementar el ataque FastGradientMethod\n",
    "attack = FastGradientMethod(estimator=estimator, eps=0.2)\n",
    "x_test_adv = attack.generate(x=x_test)\n"
   ]
  },
  {
   "cell_type": "code",
   "execution_count": 44,
   "id": "33c82521-2f76-4200-a80c-6db90581c60a",
   "metadata": {},
   "outputs": [
    {
     "name": "stdout",
     "output_type": "stream",
     "text": [
      "Accuracy on original test examples: 10.38%\n",
      "Accuracy on adversarial test examples: 11.79%\n"
     ]
    }
   ],
   "source": [
    "# Evaluar el ataque\n",
    "preds = np.argmax(estimator.predict(x_test), axis=1)\n",
    "acc = np.sum(preds == np.argmax(y_test)) / y_test.shape[0]\n",
    "print(f'Accuracy on original test examples: {acc * 100:.2f}%')\n",
    "\n",
    "preds = np.argmax(estimator.predict(x_test_adv), axis=1)\n",
    "acc = np.sum(preds == np.argmax(y_test)) / y_test.shape[0]\n",
    "print(f'Accuracy on adversarial test examples: {acc * 100:.2f}%')"
   ]
  },
  {
   "cell_type": "code",
   "execution_count": 47,
   "id": "927095ab-2e2b-42ad-be15-6d6ae4000c08",
   "metadata": {},
   "outputs": [],
   "source": [
    "from art.attacks.evasion import FastGradientMethod\n",
    "from art.attacks.poisoning import PoisoningAttackBackdoor\n",
    "from art.estimators.classification import KerasClassifier\n",
    "import numpy as np\n"
   ]
  },
  {
   "cell_type": "code",
   "execution_count": 76,
   "id": "00ba1295-0b7e-45eb-9778-8d37131924a7",
   "metadata": {},
   "outputs": [],
   "source": [
    "model = my_model"
   ]
  },
  {
   "cell_type": "code",
   "execution_count": 77,
   "id": "664e7802-8834-4d55-9d57-8f1e53853bdb",
   "metadata": {},
   "outputs": [],
   "source": [
    "# Crear el estimador de ART con tu modelo\n",
    "estimator = KerasClassifier(model, clip_values=(min_pixel_value, max_pixel_value))"
   ]
  },
  {
   "cell_type": "code",
   "execution_count": 78,
   "id": "7cd4a64f-bf33-4390-ba2a-b30d771d3966",
   "metadata": {},
   "outputs": [],
   "source": [
    "#x_train = X_train.reshape(X_train.shape[0], 224, 224, 1)\n",
    "X_test = X_test.reshape(X_test.shape[0], 224, 224, 1)"
   ]
  },
  {
   "cell_type": "code",
   "execution_count": 79,
   "id": "6d635b8f-7ae8-4fba-92ef-9deb5a695af2",
   "metadata": {},
   "outputs": [
    {
     "name": "stderr",
     "output_type": "stream",
     "text": [
      "2024-05-05 18:34:04.934635: W tensorflow/c/c_api.cc:305] Operation '{name:'conv2d_11/kernel/Assign' id:29240 op device:{requested: '', assigned: ''} def:{{{node conv2d_11/kernel/Assign}} = AssignVariableOp[_has_manual_control_dependencies=true, dtype=DT_FLOAT, validate_shape=false](conv2d_11/kernel, conv2d_11/kernel/Initializer/stateless_random_uniform)}}' was changed by setting attribute after it was run by a session. This mutation will have no effect, and will trigger an error in the future. Either don't modify nodes after running them or create a new session.\n"
     ]
    }
   ],
   "source": [
    "# Implementar el ataque de evasión (Fast Gradient Sign Method)\n",
    "evasion_attack = FastGradientMethod(estimator=estimator, eps=0.2)\n",
    "x_test_adv = evasion_attack.generate(x=X_test)\n"
   ]
  },
  {
   "cell_type": "code",
   "execution_count": 81,
   "id": "20d5904a-e54b-488a-b464-37533403a1fa",
   "metadata": {},
   "outputs": [
    {
     "name": "stdout",
     "output_type": "stream",
     "text": [
      "Accuracy on original test examples: 0.00%\n"
     ]
    }
   ],
   "source": [
    "# Evaluar el ataque de evasión\n",
    "preds = np.argmax(estimator.predict(X_test), axis=1)\n",
    "acc = np.sum(preds == np.argmax(my_y_test)) / my_y_test.shape[0]\n",
    "print(f'Accuracy on original test examples: {acc * 100:.2f}%')\n"
   ]
  },
  {
   "cell_type": "code",
   "execution_count": 83,
   "id": "e6bea5dc-daf8-4e10-bc80-7d5f76b9b1b2",
   "metadata": {},
   "outputs": [
    {
     "name": "stdout",
     "output_type": "stream",
     "text": [
      "Accuracy on adversarial test examples (evasion attack): 0.00%\n"
     ]
    }
   ],
   "source": [
    "preds = np.argmax(estimator.predict(x_test_adv), axis=1)\n",
    "acc = np.sum(preds == np.argmax(my_y_test)) / my_y_test.shape[0]\n",
    "print(f'Accuracy on adversarial test examples (evasion attack): {acc * 100:.2f}%')\n"
   ]
  },
  {
   "cell_type": "code",
   "execution_count": 84,
   "id": "620c6b98-b5de-4d4b-8bd1-7511e1646cff",
   "metadata": {},
   "outputs": [],
   "source": [
    "# Definir el patrón de la puerta trasera (backdoor)\n",
    "backdoor_pattern = np.zeros((28, 28, 1))\n",
    "backdoor_pattern[0:5, 0:5, :] = 1\n"
   ]
  },
  {
   "cell_type": "code",
   "execution_count": 95,
   "id": "b0cdcd2d-4995-4097-98db-c04dc3674ebb",
   "metadata": {},
   "outputs": [
    {
     "ename": "ImportError",
     "evalue": "cannot import name 'insert_pattern' from 'art.attacks.poisoning.perturbations' (/Library/Frameworks/Python.framework/Versions/3.11/lib/python3.11/site-packages/art/attacks/poisoning/perturbations/__init__.py)",
     "output_type": "error",
     "traceback": [
      "\u001b[0;31m---------------------------------------------------------------------------\u001b[0m",
      "\u001b[0;31mImportError\u001b[0m                               Traceback (most recent call last)",
      "Cell \u001b[0;32mIn[95], line 3\u001b[0m\n\u001b[1;32m      1\u001b[0m \u001b[38;5;28;01mfrom\u001b[39;00m \u001b[38;5;21;01mart\u001b[39;00m\u001b[38;5;21;01m.\u001b[39;00m\u001b[38;5;21;01mattacks\u001b[39;00m\u001b[38;5;21;01m.\u001b[39;00m\u001b[38;5;21;01mpoisoning\u001b[39;00m \u001b[38;5;28;01mimport\u001b[39;00m PoisoningAttackBackdoor\n\u001b[1;32m      2\u001b[0m \u001b[38;5;28;01mfrom\u001b[39;00m \u001b[38;5;21;01mart\u001b[39;00m\u001b[38;5;21;01m.\u001b[39;00m\u001b[38;5;21;01mestimators\u001b[39;00m\u001b[38;5;21;01m.\u001b[39;00m\u001b[38;5;21;01mclassification\u001b[39;00m \u001b[38;5;28;01mimport\u001b[39;00m KerasClassifier\n\u001b[0;32m----> 3\u001b[0m \u001b[38;5;28;01mfrom\u001b[39;00m \u001b[38;5;21;01mart\u001b[39;00m\u001b[38;5;21;01m.\u001b[39;00m\u001b[38;5;21;01mattacks\u001b[39;00m\u001b[38;5;21;01m.\u001b[39;00m\u001b[38;5;21;01mpoisoning\u001b[39;00m\u001b[38;5;21;01m.\u001b[39;00m\u001b[38;5;21;01mperturbations\u001b[39;00m \u001b[38;5;28;01mimport\u001b[39;00m insert_pattern\n\u001b[1;32m      5\u001b[0m \u001b[38;5;66;03m# Crear el estimador de ART con tu modelo\u001b[39;00m\n\u001b[1;32m      6\u001b[0m estimator \u001b[38;5;241m=\u001b[39m KerasClassifier(model, clip_values\u001b[38;5;241m=\u001b[39m(min_pixel_value, max_pixel_value))\n",
      "\u001b[0;31mImportError\u001b[0m: cannot import name 'insert_pattern' from 'art.attacks.poisoning.perturbations' (/Library/Frameworks/Python.framework/Versions/3.11/lib/python3.11/site-packages/art/attacks/poisoning/perturbations/__init__.py)"
     ]
    }
   ],
   "source": [
    "from art.attacks.poisoning import PoisoningAttackBackdoor\n",
    "from art.estimators.classification import KerasClassifier\n",
    "from art.attacks.poisoning.perturbations import insert_pattern\n",
    "\n",
    "# Crear el estimador de ART con tu modelo\n",
    "estimator = KerasClassifier(model, clip_values=(min_pixel_value, max_pixel_value))\n",
    "\n",
    "# Definir el patrón de la puerta trasera (backdoor)\n",
    "backdoor_pattern = np.zeros((28, 28, 1))\n",
    "backdoor_pattern[0:5, 0:5, :] = 1\n",
    "\n",
    "# Definir la función de perturbación\n",
    "perturbation = insert_pattern(backdoor_pattern, channels_first=False)\n",
    "\n",
    "# Implementar el ataque de envenenamiento (Data Poisoning Attack)\n",
    "poisoning_attack = PoisoningAttackBackdoor(perturbation)\n",
    "x_train_poisoned, y_train_poisoned = poisoning_attack.poison(x_train, y_train)\n",
    "\n",
    "# Entrenar tu modelo con los datos envenenados\n",
    "model.fit(x_train_poisoned, y_train_poisoned, epochs=5, batch_size=64, validation_data=(x_test, y_test))\n",
    "\n",
    "# ... (resto del código)"
   ]
  },
  {
   "cell_type": "code",
   "execution_count": null,
   "id": "97dc08cd-acc9-415a-8cb9-e6dae7be69df",
   "metadata": {},
   "outputs": [],
   "source": []
  }
 ],
 "metadata": {
  "kernelspec": {
   "display_name": "Python 3 (ipykernel)",
   "language": "python",
   "name": "python3"
  },
  "language_info": {
   "codemirror_mode": {
    "name": "ipython",
    "version": 3
   },
   "file_extension": ".py",
   "mimetype": "text/x-python",
   "name": "python",
   "nbconvert_exporter": "python",
   "pygments_lexer": "ipython3",
   "version": "3.11.4"
  }
 },
 "nbformat": 4,
 "nbformat_minor": 5
}
